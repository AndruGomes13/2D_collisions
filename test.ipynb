{
 "cells": [
  {
   "cell_type": "code",
   "execution_count": 4,
   "metadata": {},
   "outputs": [],
   "source": [
    "import random\n",
    "import numpy as np"
   ]
  },
  {
   "cell_type": "code",
   "execution_count": 5,
   "metadata": {},
   "outputs": [
    {
     "ename": "TypeError",
     "evalue": "Cannot interpret '0' as a data type",
     "output_type": "error",
     "traceback": [
      "\u001b[1;31m---------------------------------------------------------------------------\u001b[0m",
      "\u001b[1;31mTypeError\u001b[0m                                 Traceback (most recent call last)",
      "Cell \u001b[1;32mIn[5], line 27\u001b[0m\n\u001b[0;32m     24\u001b[0m ball_1 \u001b[39m=\u001b[39m Ball(\u001b[39m0\u001b[39m,\u001b[39m0\u001b[39m,\u001b[39m0\u001b[39m,\u001b[39m0\u001b[39m)\n\u001b[0;32m     25\u001b[0m ball_2 \u001b[39m=\u001b[39m Ball(\u001b[39m0\u001b[39m,\u001b[39m0\u001b[39m,\u001b[39m5\u001b[39m,\u001b[39m0\u001b[39m)\n\u001b[1;32m---> 27\u001b[0m ball_collision(ball_1, ball_2)\n",
      "Cell \u001b[1;32mIn[5], line 2\u001b[0m, in \u001b[0;36mball_collision\u001b[1;34m(ball_1, ball_2)\u001b[0m\n\u001b[0;32m      1\u001b[0m \u001b[39mdef\u001b[39;00m \u001b[39mball_collision\u001b[39m(ball_1, ball_2):\n\u001b[1;32m----> 2\u001b[0m     r1 \u001b[39m=\u001b[39m np\u001b[39m.\u001b[39;49marray(ball_1\u001b[39m.\u001b[39;49mx, ball_1\u001b[39m.\u001b[39;49my)\n\u001b[0;32m      3\u001b[0m     v1 \u001b[39m=\u001b[39m np\u001b[39m.\u001b[39marray(ball_1\u001b[39m.\u001b[39mv_x, ball_1\u001b[39m.\u001b[39mv_y)\n\u001b[0;32m      4\u001b[0m     m1 \u001b[39m=\u001b[39m ball_1\u001b[39m.\u001b[39mmass\n",
      "\u001b[1;31mTypeError\u001b[0m: Cannot interpret '0' as a data type"
     ]
    }
   ],
   "source": [
    "def ball_collision(ball_1, ball_2):\n",
    "    r1 = np.array([ball_1.x, ball_1.y])\n",
    "    v1 = np.array([ball_1.v_x, ball_1.v_y])\n",
    "    m1 = ball_1.mass\n",
    "\n",
    "    r2 = np.array([ball_2.x, ball_2.y]) \n",
    "    v2 = np.array([ball_2.v_x, ball_2.v_y])\n",
    "    m2 = ball_2.mass\n",
    "    \n",
    "    v1_f = v1 - (2*m2 / (m1 + m2)) * np.dot((v1 -v2), (r1 - r2)) / (np.linalg.norm(r1 - r2) ** 2) * (r1 - r2)\n",
    "    v2_f = v2 - (2*m1 / (m1 + m2)) * np.dot((v2 -v1), (r2 - r1)) / (np.linalg.norm(r2 - r1) ** 2) * (r2 - r1)\n",
    "\n",
    "    return v1_f, v2_f\n",
    "\n",
    "\n",
    "class Ball:\n",
    "    def __init__(self,x,y,v_x,v_y) -> None:\n",
    "        self.x = x\n",
    "        self.y = y\n",
    "        self.v_x = v_x\n",
    "        self.v_y = v_y\n",
    "\n",
    "\n",
    "ball_1 = Ball(0,0,0,0)\n",
    "ball_2 = Ball(0,0,5,0)\n",
    "\n",
    "ball_collision(ball_1, ball_2)\n",
    "\n"
   ]
  }
 ],
 "metadata": {
  "kernelspec": {
   "display_name": "venv",
   "language": "python",
   "name": "python3"
  },
  "language_info": {
   "codemirror_mode": {
    "name": "ipython",
    "version": 3
   },
   "file_extension": ".py",
   "mimetype": "text/x-python",
   "name": "python",
   "nbconvert_exporter": "python",
   "pygments_lexer": "ipython3",
   "version": "3.9.13"
  },
  "orig_nbformat": 4,
  "vscode": {
   "interpreter": {
    "hash": "6308997790dffc175e4f909d2c7f7bb7a0f91b9f0d5f9fb646dbc909655f679c"
   }
  }
 },
 "nbformat": 4,
 "nbformat_minor": 2
}
